{
 "cells": [
  {
   "cell_type": "markdown",
   "metadata": {},
   "source": [
    "## Notebook to separate data into isolated treatments and save as csv files"
   ]
  },
  {
   "cell_type": "code",
   "execution_count": 19,
   "metadata": {
    "collapsed": false
   },
   "outputs": [
    {
     "name": "stdout",
     "output_type": "stream",
     "text": [
      "Wrote file: /Users/jakehanson/Desktop/Ants/Nest_Choice/Improved_Treatments/Separate_Treatments/col6_treatment1.csv \n",
      "\n",
      "Wrote file: /Users/jakehanson/Desktop/Ants/Nest_Choice/Improved_Treatments/Separate_Treatments/col6_treatment1.csv \n",
      "\n",
      "Wrote file: /Users/jakehanson/Desktop/Ants/Nest_Choice/Improved_Treatments/Separate_Treatments/col6_treatment2.csv \n",
      "\n",
      "Wrote file: /Users/jakehanson/Desktop/Ants/Nest_Choice/Improved_Treatments/Separate_Treatments/col6_treatment3.csv \n",
      "\n",
      "Wrote file: /Users/jakehanson/Desktop/Ants/Nest_Choice/Improved_Treatments/Separate_Treatments/col6_treatment4.csv \n",
      "\n",
      "Wrote file: /Users/jakehanson/Desktop/Ants/Nest_Choice/Improved_Treatments/Separate_Treatments/col6_treatment5.csv \n",
      "\n",
      "Wrote file: /Users/jakehanson/Desktop/Ants/Nest_Choice/Improved_Treatments/Separate_Treatments/col208_treatment2.csv \n",
      "\n",
      "Wrote file: /Users/jakehanson/Desktop/Ants/Nest_Choice/Improved_Treatments/Separate_Treatments/col208_treatment3.csv \n",
      "\n",
      "Wrote file: /Users/jakehanson/Desktop/Ants/Nest_Choice/Improved_Treatments/Separate_Treatments/col208_treatment4.csv \n",
      "\n",
      "Wrote file: /Users/jakehanson/Desktop/Ants/Nest_Choice/Improved_Treatments/Separate_Treatments/col208_treatment5.csv \n",
      "\n",
      "Wrote file: /Users/jakehanson/Desktop/Ants/Nest_Choice/Improved_Treatments/Separate_Treatments/col3004_treatment1.csv \n",
      "\n",
      "Wrote file: /Users/jakehanson/Desktop/Ants/Nest_Choice/Improved_Treatments/Separate_Treatments/col3004_treatment2.csv \n",
      "\n",
      "Wrote file: /Users/jakehanson/Desktop/Ants/Nest_Choice/Improved_Treatments/Separate_Treatments/col3004_treatment3.csv \n",
      "\n",
      "Wrote file: /Users/jakehanson/Desktop/Ants/Nest_Choice/Improved_Treatments/Separate_Treatments/col3004_treatment4.csv \n",
      "\n",
      "Wrote file: /Users/jakehanson/Desktop/Ants/Nest_Choice/Improved_Treatments/Separate_Treatments/col3004_treatment5.csv \n",
      "\n",
      "Done\n"
     ]
    }
   ],
   "source": [
    "import pandas as pd\n",
    "import numpy as np\n",
    "import matplotlib.pyplot as plt\n",
    "import os\n",
    "%matplotlib inline\n",
    "\n",
    "\n",
    "## Read Data in and determine number of treatments\n",
    "table = pd.read_excel('/Users/jakehanson/Desktop/Ants/Nest_Choice/Improved_Treatments/Emigration-network-data.xls',sheetname = 'Data', header = 0)\n",
    "treatment_column = table.Treatment\n",
    "total_rows = np.size(treatment_column)\n",
    "#print 'Total Rows =',total_rows\n",
    "\n",
    "## Find where treatments are separated\n",
    "break_indices = []  # empty array to store indices of first element of new treatment\n",
    "for i in range(total_rows-1):\n",
    "    if treatment_column[i+1] - treatment_column[i] != 0:\n",
    "        break_indices.append(i+1)\n",
    "N_treatments = np.size(break_indices)+1\n",
    "#print 'Total Treatments =',N_treatments\n",
    "\n",
    "\n",
    "# Output first treatment\n",
    "data = pd.DataFrame(data = table[0:(break_indices[0])],index = np.arange(0,break_indices[0]))\n",
    "col_id = data.Colony[0]\n",
    "treatment_id = data.Treatment[0]\n",
    "path = '/Users/jakehanson/Desktop/Ants/Nest_Choice/Improved_Treatments/Separate_Treatments/col'+str(col_id)+'_treatment'+str(treatment_id)+'.csv'\n",
    "output = data.to_csv(path_or_buf=path,columns = ['Colony','Treatment','Time','Ant','Behavior','Location/Origin','Source/Destination','Notes'],index=False)\n",
    "\n",
    "if os.stat(path).st_size == 0:\n",
    "    print 'Unable to write file:',path,'\\n'\n",
    "else:\n",
    "    print 'Wrote file:',path,'\\n'\n",
    "\n",
    "## Output treatments\n",
    "for j in range(0,N_treatments-1):\n",
    "    \n",
    "    if j == 0:\n",
    "        \n",
    "        data = pd.DataFrame(data = table[0:(break_indices[0])],index = np.arange(0,break_indices[0]))\n",
    "        col_id = data.Colony[0]\n",
    "        treatment_id = data.Treatment[0]\n",
    "        path = '/Users/jakehanson/Desktop/Ants/Nest_Choice/Improved_Treatments/Separate_Treatments/col'+str(col_id)+'_treatment'+str(treatment_id)+'.csv'\n",
    "        output = data.to_csv(path_or_buf=path,columns = ['Colony','Treatment','Time','Ant','Behavior','Location/Origin','Source/Destination','Notes'],index=False)\n",
    "        if os.stat(path).st_size == 0:\n",
    "            print 'Unable to write file:',path,'\\n'\n",
    "        else:\n",
    "            print 'Wrote file:',path,'\\n'\n",
    "    \n",
    "    else:\n",
    "        \n",
    "        data = pd.DataFrame(data = table[break_indices[j-1]:(break_indices[j]):])\n",
    "        col_id = data.Colony[break_indices[j-1]]\n",
    "        treatment_id = data.Treatment[break_indices[j-1]]\n",
    "        path = '/Users/jakehanson/Desktop/Ants/Nest_Choice/Improved_Treatments/Separate_Treatments/col'+str(col_id)+'_treatment'+str(treatment_id)+'.csv'\n",
    "        output = data.to_csv(path_or_buf=path,columns = ['Colony','Treatment','Time','Ant','Behavior','Location/Origin','Source/Destination','Notes'],index=False)        \n",
    "        if os.stat(path).st_size == 0:\n",
    "            print 'Unable to write file:',path,'\\n'\n",
    "        else:\n",
    "            print 'Wrote file:',path,'\\n'        \n",
    "        \n",
    "# Output last treatment\n",
    "data = pd.DataFrame(data = table[break_indices[-1]:(total_rows):])\n",
    "col_id = data.Colony[break_indices[-1]]\n",
    "treatment_id = data.Treatment[break_indices[-1]]\n",
    "path = '/Users/jakehanson/Desktop/Ants/Nest_Choice/Improved_Treatments/Separate_Treatments/col'+str(col_id)+'_treatment'+str(treatment_id)+'.csv'\n",
    "output = data.to_csv(path_or_buf=path,columns = ['Colony','Treatment','Time','Ant','Behavior','Location/Origin','Source/Destination','Notes'],index=False)        \n",
    "if os.stat(path).st_size == 0:\n",
    "    print 'Unable to write file:',path,'\\n'\n",
    "else:\n",
    "    print 'Wrote file:',path,'\\n'\n",
    "\n",
    "print 'Done'"
   ]
  },
  {
   "cell_type": "code",
   "execution_count": null,
   "metadata": {
    "collapsed": true
   },
   "outputs": [],
   "source": []
  }
 ],
 "metadata": {
  "kernelspec": {
   "display_name": "Python 2",
   "language": "python",
   "name": "python2"
  },
  "language_info": {
   "codemirror_mode": {
    "name": "ipython",
    "version": 2
   },
   "file_extension": ".py",
   "mimetype": "text/x-python",
   "name": "python",
   "nbconvert_exporter": "python",
   "pygments_lexer": "ipython2",
   "version": "2.7.11"
  }
 },
 "nbformat": 4,
 "nbformat_minor": 0
}
